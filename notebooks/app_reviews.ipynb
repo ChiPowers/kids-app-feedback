{
 "cells": [
  {
   "cell_type": "code",
   "execution_count": 1,
   "id": "a36a6734-1feb-43ee-a2d9-3be255898341",
   "metadata": {
    "scrolled": true
   },
   "outputs": [
    {
     "name": "stderr",
     "output_type": "stream",
     "text": [
      "Scraping apps:   0%|                                     | 0/17 [00:00<?, ?it/s]"
     ]
    },
    {
     "name": "stdout",
     "output_type": "stream",
     "text": [
      "✅ Saved 5000 reviews for com.roblox.client\n"
     ]
    },
    {
     "name": "stderr",
     "output_type": "stream",
     "text": [
      "Scraping apps:   6%|█▋                           | 1/17 [00:05<01:25,  5.33s/it]"
     ]
    },
    {
     "name": "stdout",
     "output_type": "stream",
     "text": [
      "✅ Saved 5000 reviews for com.mojang.minecraftpe\n"
     ]
    },
    {
     "name": "stderr",
     "output_type": "stream",
     "text": [
      "Scraping apps:  12%|███▍                         | 2/17 [00:10<01:17,  5.19s/it]"
     ]
    },
    {
     "name": "stdout",
     "output_type": "stream",
     "text": [
      "✅ Saved 5000 reviews for com.king.candycrushsaga\n"
     ]
    },
    {
     "name": "stderr",
     "output_type": "stream",
     "text": [
      "Scraping apps:  18%|█████                        | 3/17 [00:15<01:10,  5.05s/it]"
     ]
    },
    {
     "name": "stdout",
     "output_type": "stream",
     "text": [
      "✅ Saved 5000 reviews for com.outfit7.mytalkingtom2\n"
     ]
    },
    {
     "name": "stderr",
     "output_type": "stream",
     "text": [
      "Scraping apps:  24%|██████▊                      | 4/17 [00:20<01:08,  5.30s/it]"
     ]
    },
    {
     "name": "stdout",
     "output_type": "stream",
     "text": [
      "✅ Saved 5000 reviews for com.outfit7.mytalkingtomfriends\n"
     ]
    },
    {
     "name": "stderr",
     "output_type": "stream",
     "text": [
      "Scraping apps:  29%|████████▌                    | 5/17 [00:25<01:00,  5.08s/it]"
     ]
    },
    {
     "name": "stdout",
     "output_type": "stream",
     "text": [
      "✅ Saved 5000 reviews for com.tocaboca.tocalifeworld\n"
     ]
    },
    {
     "name": "stderr",
     "output_type": "stream",
     "text": [
      "Scraping apps:  35%|██████████▏                  | 6/17 [00:31<00:57,  5.27s/it]"
     ]
    },
    {
     "name": "stdout",
     "output_type": "stream",
     "text": [
      "✅ Saved 5000 reviews for org.scratchjr.android\n"
     ]
    },
    {
     "name": "stderr",
     "output_type": "stream",
     "text": [
      "Scraping apps:  41%|███████████▉                 | 7/17 [00:36<00:50,  5.08s/it]"
     ]
    },
    {
     "name": "stdout",
     "output_type": "stream",
     "text": [
      "✅ Saved 5000 reviews for com.getepic.Epic\n"
     ]
    },
    {
     "name": "stderr",
     "output_type": "stream",
     "text": [
      "Scraping apps:  47%|█████████████▋               | 8/17 [00:40<00:45,  5.02s/it]"
     ]
    },
    {
     "name": "stdout",
     "output_type": "stream",
     "text": [
      "✅ Saved 5000 reviews for org.pbskids.gamesapp\n"
     ]
    },
    {
     "name": "stderr",
     "output_type": "stream",
     "text": [
      "Scraping apps:  53%|███████████████▎             | 9/17 [00:45<00:39,  4.97s/it]"
     ]
    },
    {
     "name": "stdout",
     "output_type": "stream",
     "text": [
      "✅ Saved 5000 reviews for com.rvappstudios.abc_kids_toddler_tracing_phonics\n"
     ]
    },
    {
     "name": "stderr",
     "output_type": "stream",
     "text": [
      "Scraping apps:  59%|████████████████▍           | 10/17 [00:51<00:36,  5.15s/it]"
     ]
    },
    {
     "name": "stdout",
     "output_type": "stream",
     "text": [
      "✅ Saved 5000 reviews for com.sinyee.babybus.restaurant\n"
     ]
    },
    {
     "name": "stderr",
     "output_type": "stream",
     "text": [
      "Scraping apps:  65%|██████████████████          | 11/17 [00:56<00:30,  5.13s/it]"
     ]
    },
    {
     "name": "stdout",
     "output_type": "stream",
     "text": [
      "✅ Saved 5000 reviews for com.miniclip.carrom\n"
     ]
    },
    {
     "name": "stderr",
     "output_type": "stream",
     "text": [
      "Scraping apps:  71%|███████████████████▊        | 12/17 [01:00<00:24,  4.94s/it]"
     ]
    },
    {
     "name": "stdout",
     "output_type": "stream",
     "text": [
      "✅ Saved 5000 reviews for com.imangi.templerun2\n"
     ]
    },
    {
     "name": "stderr",
     "output_type": "stream",
     "text": [
      "Scraping apps:  76%|█████████████████████▍      | 13/17 [01:05<00:19,  4.86s/it]"
     ]
    },
    {
     "name": "stdout",
     "output_type": "stream",
     "text": [
      "✅ Saved 5000 reviews for com.google.android.apps.youtube.kids\n"
     ]
    },
    {
     "name": "stderr",
     "output_type": "stream",
     "text": [
      "Scraping apps:  82%|███████████████████████     | 14/17 [01:10<00:14,  4.89s/it]"
     ]
    },
    {
     "name": "stdout",
     "output_type": "stream",
     "text": [
      "✅ Saved 1201 reviews for com.future.HappyKids\n"
     ]
    },
    {
     "name": "stderr",
     "output_type": "stream",
     "text": [
      "Scraping apps:  88%|████████████████████████▋   | 15/17 [01:13<00:08,  4.39s/it]"
     ]
    },
    {
     "name": "stdout",
     "output_type": "stream",
     "text": [
      "✅ Saved 627 reviews for com.abqappsource.childgrowthtracker\n"
     ]
    },
    {
     "name": "stderr",
     "output_type": "stream",
     "text": [
      "Scraping apps:  94%|██████████████████████████▎ | 16/17 [01:16<00:03,  3.84s/it]"
     ]
    },
    {
     "name": "stdout",
     "output_type": "stream",
     "text": [
      "✅ Saved 5000 reviews for org.khankids.android\n"
     ]
    },
    {
     "name": "stderr",
     "output_type": "stream",
     "text": [
      "Scraping apps: 100%|████████████████████████████| 17/17 [01:20<00:00,  4.76s/it]\n"
     ]
    }
   ],
   "source": [
    "import os\n",
    "import pandas as pd\n",
    "from google_play_scraper import reviews, Sort\n",
    "from tqdm import tqdm\n",
    "import time\n",
    "\n",
    "# Configuration\n",
    "NUM_REVIEWS = 5000\n",
    "LANG = \"en\"\n",
    "COUNTRY = \"us\"\n",
    "BASE_DIR = \"data\"  # Folder to store all apps\n",
    "\n",
    "# Load your top apps list\n",
    "apps_df = pd.read_csv(\"data/top_apps.csv\")  # Must have 'app_id' column\n",
    "\n",
    "# Ensure base data directory exists\n",
    "os.makedirs(BASE_DIR, exist_ok=True)\n",
    "\n",
    "for _, row in tqdm(apps_df.iterrows(), total=len(apps_df), desc=\"Scraping apps\"):\n",
    "    app_id = row[\"app_id\"]\n",
    "    app_folder = os.path.join(BASE_DIR, app_id)\n",
    "    os.makedirs(app_folder, exist_ok=True)\n",
    "\n",
    "    out_path = os.path.join(app_folder, \"reviews.csv\")\n",
    "    if os.path.exists(out_path):\n",
    "        print(f\"✔️  Skipping {app_id} (already exists)\")\n",
    "        continue\n",
    "\n",
    "    try:\n",
    "        result, _ = reviews(\n",
    "            app_id,\n",
    "            lang=LANG,\n",
    "            country=COUNTRY,\n",
    "            sort=Sort.NEWEST,\n",
    "            count=NUM_REVIEWS,\n",
    "            filter_score_with=None\n",
    "        )\n",
    "        df = pd.DataFrame(result)\n",
    "        df = df[[\"reviewId\", \"userName\", \"content\", \"score\", \"thumbsUpCount\", \"reviewCreatedVersion\", \"at\"]]\n",
    "        df.columns = [\"id\", \"user\", \"text\", \"rating\", \"likes\", \"app_version\", \"date\"]\n",
    "        df.to_csv(out_path, index=False)\n",
    "        print(f\"✅ Saved {len(df)} reviews for {app_id}\")\n",
    "        \n",
    "        time.sleep(2)\n",
    "    except Exception as e:\n",
    "        print(f\"❌ Error scraping {app_id}: {e}\")\n"
   ]
  },
  {
   "cell_type": "code",
   "execution_count": 2,
   "id": "054ec7a9-a8db-40ea-a567-32d05e776c7c",
   "metadata": {},
   "outputs": [],
   "source": [
    "import os\n",
    "from openai import OpenAI\n",
    "from dotenv import load_dotenv\n",
    "\n",
    "# Load from .env if present\n",
    "load_dotenv()\n",
    "\n",
    "# Get the API key from environment variable\n",
    "api_key = os.getenv(\"OPENAI_API_KEY\")\n",
    "\n",
    "# Safety check\n",
    "if not api_key:\n",
    "    raise ValueError(\"Missing OpenAI API key. Set OPENAI_API_KEY in your environment or .env file.\")\n",
    "\n",
    "# Instantiate the OpenAI client\n",
    "client = OpenAI(api_key=api_key)"
   ]
  },
  {
   "cell_type": "code",
   "execution_count": 3,
   "id": "6ee5c58d-e15f-48dc-a53a-00416a70eec1",
   "metadata": {},
   "outputs": [
    {
     "name": "stderr",
     "output_type": "stream",
     "text": [
      "Device set to use mps:0\n"
     ]
    }
   ],
   "source": [
    "import pandas as pd\n",
    "import os\n",
    "from vaderSentiment.vaderSentiment import SentimentIntensityAnalyzer\n",
    "from transformers import pipeline\n",
    "import torch\n",
    "from tqdm import tqdm\n",
    "import textstat\n",
    "from bertopic import BERTopic\n",
    "from sentence_transformers import SentenceTransformer\n",
    "from openai import OpenAI\n",
    "\n",
    "# Global models\n",
    "analyzer = SentimentIntensityAnalyzer()\n",
    "emotion_pipeline = pipeline(\n",
    "    \"text-classification\",\n",
    "    model=\"j-hartmann/emotion-english-distilroberta-base\",\n",
    "    top_k=1,\n",
    "    model_kwargs={\"torch_dtype\": torch.float32}\n",
    ")\n",
    "embedding_model = SentenceTransformer(\"all-MiniLM-L6-v2\")\n",
    "client = OpenAI()\n",
    "\n",
    "def batch_emotion_labels(texts, batch_size=32):\n",
    "    results = []\n",
    "    for i in tqdm(range(0, len(texts), batch_size), desc=\"Emotion Classification\"):\n",
    "        batch = texts[i:i+batch_size]\n",
    "        try:\n",
    "            batch_preds = emotion_pipeline(batch, truncation=True)\n",
    "            for result in batch_preds:\n",
    "                if isinstance(result, list):\n",
    "                    results.append(result[0]['label'])\n",
    "                else:\n",
    "                    results.append(result['label'])\n",
    "        except Exception as e:\n",
    "            print(f\"Error on batch {i}: {e}\")\n",
    "            results.extend([\"error\"] * len(batch))\n",
    "    return results\n",
    "\n",
    "def suggest_label(topic_num, top_words, sample_reviews):\n",
    "    top_words_str = ', '.join(top_words)\n",
    "    prompt = f\"\"\"\n",
    "You are analyzing app reviews that have been grouped into topics. \n",
    "Your job is to give a concise label (2-5 words max) that summarizes the theme of the topic.\n",
    "\n",
    "Here are the top words for Topic {topic_num}:\n",
    "{top_words_str}\n",
    "\n",
    "Here are 3 representative reviews:\n",
    "1. {sample_reviews[0]}\n",
    "2. {sample_reviews[1]}\n",
    "3. {sample_reviews[2]}\n",
    "\n",
    "What is the best label for this topic?\n",
    "Respond with only the label.\n",
    "\"\"\"\n",
    "    try:\n",
    "        response = client.chat.completions.create(\n",
    "            model=\"gpt-4\",\n",
    "            messages=[{\"role\": \"user\", \"content\": prompt}],\n",
    "            temperature=0.4,\n",
    "        )\n",
    "        return response.choices[0].message.content.strip()\n",
    "    except Exception as e:\n",
    "        print(f\"❌ Error labeling topic {topic_num}: {e}\")\n",
    "        return \"Unknown\"\n",
    "\n",
    "def process_reviews_file(app_id: str, base_dir=\"data\"):\n",
    "    input_path = os.path.join(base_dir, app_id, \"reviews.csv\")\n",
    "    output_path = os.path.join(base_dir, app_id, f\"{app_id}_reviews_preprocessed.csv\")\n",
    "    app_folder = os.path.join(base_dir, app_id)\n",
    "    os.makedirs(app_folder, exist_ok=True)\n",
    "\n",
    "    if not os.path.exists(input_path):\n",
    "        print(f\"❌ Missing input file for {app_id}\")\n",
    "        return\n",
    "\n",
    "    print(f\"🔄 Processing {app_id}...\")\n",
    "    df = pd.read_csv(input_path)\n",
    "    df = df.dropna(subset=[\"text\"])\n",
    "    df = df[df[\"text\"].str.strip().astype(bool)]\n",
    "\n",
    "    # Basic preprocessing\n",
    "    df[\"date\"] = pd.to_datetime(df[\"date\"], errors=\"coerce\")\n",
    "    df[\"text_length\"] = df[\"text\"].str.len()\n",
    "    df[\"vader_sentiment\"] = df[\"text\"].apply(lambda x: analyzer.polarity_scores(x)[\"compound\"])\n",
    "    df[\"emotion\"] = batch_emotion_labels(df[\"text\"].tolist())\n",
    "    df[\"readability\"] = df[\"text\"].apply(textstat.flesch_reading_ease)\n",
    "\n",
    "    # Keyword flags\n",
    "    bug_keywords = ['bug', 'crash', 'glitch', 'error', 'issue', 'broken', 'freeze']\n",
    "    request_keywords = ['add', 'feature', 'please', 'would like', 'suggest', 'can you', 'request']\n",
    "    df['contains_bug_keywords'] = df['text'].str.lower().apply(lambda x: any(k in x for k in bug_keywords))\n",
    "    df['contains_request_keywords'] = df['text'].str.lower().apply(lambda x: any(k in x for k in request_keywords))\n",
    "\n",
    "    # Topic modeling\n",
    "    print(\"🔍 Running BERTopic...\")\n",
    "    topic_model = BERTopic(embedding_model=embedding_model, verbose=True)\n",
    "    topics, probs = topic_model.fit_transform(df['text'].tolist())\n",
    "    df['topic'] = topics\n",
    "    df['topic_prob'] = probs\n",
    "\n",
    "    # GPT topic labeling\n",
    "    docs = df['text'].tolist()\n",
    "    topic_info = topic_model.get_topic_info()\n",
    "    labels = {}\n",
    "\n",
    "    for topic_num in tqdm(topic_info['Topic']):\n",
    "        if topic_num == -1:\n",
    "            continue\n",
    "        top_words = [word for word, _ in topic_model.get_topic(topic_num)[:10]]\n",
    "        sample_reviews = [docs[i] for i, t in enumerate(topics) if t == topic_num][:3]\n",
    "        if len(sample_reviews) < 3:\n",
    "            continue\n",
    "        label = suggest_label(topic_num, top_words, sample_reviews)\n",
    "        labels[topic_num] = label\n",
    "\n",
    "    # Merge topics with same label\n",
    "    label_to_new_topic = {}\n",
    "    new_topic_id = 0\n",
    "    topic_remap = {}\n",
    "\n",
    "    for old_topic, label in labels.items():\n",
    "        norm_label = label.strip().lower()\n",
    "        if norm_label not in label_to_new_topic:\n",
    "            label_to_new_topic[norm_label] = new_topic_id\n",
    "            new_topic_id += 1\n",
    "        topic_remap[old_topic] = label_to_new_topic[norm_label]\n",
    "\n",
    "    df[\"merged_topic\"] = df[\"topic\"].map(topic_remap)\n",
    "    df[\"merged_topic_label\"] = df[\"merged_topic\"].map(\n",
    "        lambda x: [k for k, v in label_to_new_topic.items() if v == x][0] if x in df[\"merged_topic\"].unique() else \"Unknown\"\n",
    "    )\n",
    "\n",
    "    # Pain point detection\n",
    "    negative_emotions = ['anger', 'sadness', 'fear', 'disgust']\n",
    "    topic_counts = df.groupby('merged_topic_label').size()\n",
    "    neg_counts = df[df['emotion'].isin(negative_emotions)].groupby('merged_topic_label').size()\n",
    "    neg_proportion = (neg_counts / topic_counts).fillna(0)\n",
    "    threshold = 0.4\n",
    "    pain_points = neg_proportion[neg_proportion > threshold]\n",
    "    df['pain_point'] = df['merged_topic_label'].isin(pain_points.index)\n",
    "\n",
    "    # Save processed reviews\n",
    "    df.to_csv(output_path, index=False)\n",
    "\n",
    "    # Save topic summary with pain point flag\n",
    "    topic_summary = df.groupby(\"merged_topic_label\").agg({\n",
    "        \"text\": \"count\",\n",
    "        \"vader_sentiment\": \"mean\",\n",
    "        \"text_length\": \"mean\",\n",
    "        \"readability\": \"mean\",\n",
    "        \"contains_bug_keywords\": \"mean\",\n",
    "        \"contains_request_keywords\": \"mean\"\n",
    "    }).rename(columns={\n",
    "        \"text\": \"total_reviews\",\n",
    "        \"vader_sentiment\": \"avg_vader_sentiment\",\n",
    "        \"text_length\": \"avg_text_length\",\n",
    "        \"readability\": \"avg_readability\",\n",
    "        \"contains_bug_keywords\": \"bug_keyword_rate\",\n",
    "        \"contains_request_keywords\": \"request_keyword_rate\"\n",
    "    }).reset_index()\n",
    "    topic_summary[\"pain_point_flag\"] = topic_summary[\"merged_topic_label\"].isin(pain_points.index)\n",
    "    topic_summary.to_csv(os.path.join(app_folder, \"topics.csv\"), index=False)\n",
    "\n",
    "    # Save pain summary\n",
    "    pain_summary = pd.DataFrame({\n",
    "        'negative_proportion': neg_proportion,\n",
    "        'total_reviews': topic_counts,\n",
    "        'pain_point_flag': neg_proportion > threshold\n",
    "    }).reset_index()\n",
    "    pain_summary.to_csv(os.path.join(app_folder, \"pain_point_summary.csv\"), index=False)\n",
    "\n",
    "    # Save normalized emotion distribution\n",
    "    emotion_dist = (\n",
    "        df[[\"merged_topic_label\", \"emotion\"]]\n",
    "        .value_counts(normalize=True)\n",
    "        .reset_index(name=\"proportion\")\n",
    "    )\n",
    "    pivoted = emotion_dist.pivot(index=\"merged_topic_label\", columns=\"emotion\", values=\"proportion\").fillna(0)\n",
    "    pivoted.to_csv(os.path.join(app_folder, \"emotion_distribution_by_topic.csv\"))\n"
   ]
  },
  {
   "cell_type": "code",
   "execution_count": 4,
   "id": "911eb487-baf6-43a3-94c4-1f1fa7622284",
   "metadata": {},
   "outputs": [
    {
     "name": "stdout",
     "output_type": "stream",
     "text": [
      "🔄 Processing com.roblox.client...\n"
     ]
    },
    {
     "name": "stderr",
     "output_type": "stream",
     "text": [
      "Emotion Classification: 100%|█████████████████| 157/157 [00:47<00:00,  3.32it/s]\n",
      "2025-07-26 16:16:29,455 - BERTopic - Embedding - Transforming documents to embeddings.\n"
     ]
    },
    {
     "name": "stdout",
     "output_type": "stream",
     "text": [
      "🔍 Running BERTopic...\n"
     ]
    },
    {
     "data": {
      "application/vnd.jupyter.widget-view+json": {
       "model_id": "112d26156a2b41468aa9d568b7818180",
       "version_major": 2,
       "version_minor": 0
      },
      "text/plain": [
       "Batches:   0%|          | 0/157 [00:00<?, ?it/s]"
      ]
     },
     "metadata": {},
     "output_type": "display_data"
    },
    {
     "name": "stderr",
     "output_type": "stream",
     "text": [
      "2025-07-26 16:16:34,584 - BERTopic - Embedding - Completed ✓\n",
      "2025-07-26 16:16:34,585 - BERTopic - Dimensionality - Fitting the dimensionality reduction algorithm\n",
      "2025-07-26 16:16:41,364 - BERTopic - Dimensionality - Completed ✓\n",
      "2025-07-26 16:16:41,365 - BERTopic - Cluster - Start clustering the reduced embeddings\n",
      "2025-07-26 16:16:41,428 - BERTopic - Cluster - Completed ✓\n",
      "2025-07-26 16:16:41,430 - BERTopic - Representation - Fine-tuning topics using representation models.\n",
      "2025-07-26 16:16:41,476 - BERTopic - Representation - Completed ✓\n",
      "100%|█████████████████████████████████████████| 110/110 [01:24<00:00,  1.30it/s]\n"
     ]
    },
    {
     "name": "stdout",
     "output_type": "stream",
     "text": [
      "🔄 Processing com.mojang.minecraftpe...\n"
     ]
    },
    {
     "name": "stderr",
     "output_type": "stream",
     "text": [
      "Emotion Classification: 100%|█████████████████| 157/157 [00:42<00:00,  3.65it/s]\n",
      "2025-07-26 16:18:49,314 - BERTopic - Embedding - Transforming documents to embeddings.\n"
     ]
    },
    {
     "name": "stdout",
     "output_type": "stream",
     "text": [
      "🔍 Running BERTopic...\n"
     ]
    },
    {
     "data": {
      "application/vnd.jupyter.widget-view+json": {
       "model_id": "ef6af709670d4f80bbf6176b107d401c",
       "version_major": 2,
       "version_minor": 0
      },
      "text/plain": [
       "Batches:   0%|          | 0/157 [00:00<?, ?it/s]"
      ]
     },
     "metadata": {},
     "output_type": "display_data"
    },
    {
     "name": "stderr",
     "output_type": "stream",
     "text": [
      "2025-07-26 16:18:52,935 - BERTopic - Embedding - Completed ✓\n",
      "2025-07-26 16:18:52,935 - BERTopic - Dimensionality - Fitting the dimensionality reduction algorithm\n",
      "2025-07-26 16:18:54,244 - BERTopic - Dimensionality - Completed ✓\n",
      "2025-07-26 16:18:54,245 - BERTopic - Cluster - Start clustering the reduced embeddings\n",
      "2025-07-26 16:18:54,312 - BERTopic - Cluster - Completed ✓\n",
      "2025-07-26 16:18:54,313 - BERTopic - Representation - Fine-tuning topics using representation models.\n",
      "2025-07-26 16:18:54,364 - BERTopic - Representation - Completed ✓\n",
      "100%|█████████████████████████████████████████| 120/120 [01:34<00:00,  1.27it/s]\n"
     ]
    },
    {
     "name": "stdout",
     "output_type": "stream",
     "text": [
      "🔄 Processing com.king.candycrushsaga...\n"
     ]
    },
    {
     "name": "stderr",
     "output_type": "stream",
     "text": [
      "Emotion Classification: 100%|█████████████████| 157/157 [00:39<00:00,  3.99it/s]\n",
      "2025-07-26 16:21:08,623 - BERTopic - Embedding - Transforming documents to embeddings.\n"
     ]
    },
    {
     "name": "stdout",
     "output_type": "stream",
     "text": [
      "🔍 Running BERTopic...\n"
     ]
    },
    {
     "data": {
      "application/vnd.jupyter.widget-view+json": {
       "model_id": "fd4e61d83c6b4659b857cb04c02928f0",
       "version_major": 2,
       "version_minor": 0
      },
      "text/plain": [
       "Batches:   0%|          | 0/157 [00:00<?, ?it/s]"
      ]
     },
     "metadata": {},
     "output_type": "display_data"
    },
    {
     "name": "stderr",
     "output_type": "stream",
     "text": [
      "2025-07-26 16:21:10,295 - BERTopic - Embedding - Completed ✓\n",
      "2025-07-26 16:21:10,295 - BERTopic - Dimensionality - Fitting the dimensionality reduction algorithm\n",
      "2025-07-26 16:21:11,969 - BERTopic - Dimensionality - Completed ✓\n",
      "2025-07-26 16:21:11,969 - BERTopic - Cluster - Start clustering the reduced embeddings\n",
      "2025-07-26 16:21:12,031 - BERTopic - Cluster - Completed ✓\n",
      "2025-07-26 16:21:12,033 - BERTopic - Representation - Fine-tuning topics using representation models.\n",
      "2025-07-26 16:21:12,067 - BERTopic - Representation - Completed ✓\n",
      "100%|█████████████████████████████████████████| 119/119 [01:31<00:00,  1.30it/s]\n"
     ]
    },
    {
     "name": "stdout",
     "output_type": "stream",
     "text": [
      "🔄 Processing com.outfit7.mytalkingtom2...\n"
     ]
    },
    {
     "name": "stderr",
     "output_type": "stream",
     "text": [
      "Emotion Classification: 100%|█████████████████| 157/157 [00:42<00:00,  3.73it/s]\n",
      "2025-07-26 16:23:26,401 - BERTopic - Embedding - Transforming documents to embeddings.\n"
     ]
    },
    {
     "name": "stdout",
     "output_type": "stream",
     "text": [
      "🔍 Running BERTopic...\n"
     ]
    },
    {
     "data": {
      "application/vnd.jupyter.widget-view+json": {
       "model_id": "51265293995f45b481fee0531be3af39",
       "version_major": 2,
       "version_minor": 0
      },
      "text/plain": [
       "Batches:   0%|          | 0/157 [00:00<?, ?it/s]"
      ]
     },
     "metadata": {},
     "output_type": "display_data"
    },
    {
     "name": "stderr",
     "output_type": "stream",
     "text": [
      "2025-07-26 16:23:28,424 - BERTopic - Embedding - Completed ✓\n",
      "2025-07-26 16:23:28,424 - BERTopic - Dimensionality - Fitting the dimensionality reduction algorithm\n",
      "2025-07-26 16:23:29,945 - BERTopic - Dimensionality - Completed ✓\n",
      "2025-07-26 16:23:29,946 - BERTopic - Cluster - Start clustering the reduced embeddings\n",
      "2025-07-26 16:23:30,009 - BERTopic - Cluster - Completed ✓\n",
      "2025-07-26 16:23:30,010 - BERTopic - Representation - Fine-tuning topics using representation models.\n",
      "2025-07-26 16:23:30,047 - BERTopic - Representation - Completed ✓\n",
      "100%|█████████████████████████████████████████| 115/115 [01:23<00:00,  1.38it/s]\n"
     ]
    },
    {
     "name": "stdout",
     "output_type": "stream",
     "text": [
      "🔄 Processing com.outfit7.mytalkingtomfriends...\n"
     ]
    },
    {
     "name": "stderr",
     "output_type": "stream",
     "text": [
      "Emotion Classification: 100%|█████████████████| 157/157 [00:41<00:00,  3.76it/s]\n",
      "2025-07-26 16:25:35,658 - BERTopic - Embedding - Transforming documents to embeddings.\n"
     ]
    },
    {
     "name": "stdout",
     "output_type": "stream",
     "text": [
      "🔍 Running BERTopic...\n"
     ]
    },
    {
     "data": {
      "application/vnd.jupyter.widget-view+json": {
       "model_id": "74c7a35e144941b8a268eba5514b9b03",
       "version_major": 2,
       "version_minor": 0
      },
      "text/plain": [
       "Batches:   0%|          | 0/157 [00:00<?, ?it/s]"
      ]
     },
     "metadata": {},
     "output_type": "display_data"
    },
    {
     "name": "stderr",
     "output_type": "stream",
     "text": [
      "2025-07-26 16:25:37,671 - BERTopic - Embedding - Completed ✓\n",
      "2025-07-26 16:25:37,671 - BERTopic - Dimensionality - Fitting the dimensionality reduction algorithm\n",
      "2025-07-26 16:25:39,137 - BERTopic - Dimensionality - Completed ✓\n",
      "2025-07-26 16:25:39,138 - BERTopic - Cluster - Start clustering the reduced embeddings\n",
      "2025-07-26 16:25:39,204 - BERTopic - Cluster - Completed ✓\n",
      "2025-07-26 16:25:39,206 - BERTopic - Representation - Fine-tuning topics using representation models.\n",
      "2025-07-26 16:25:39,243 - BERTopic - Representation - Completed ✓\n",
      "100%|█████████████████████████████████████████| 115/115 [01:27<00:00,  1.32it/s]\n"
     ]
    },
    {
     "name": "stdout",
     "output_type": "stream",
     "text": [
      "🔄 Processing com.tocaboca.tocalifeworld...\n"
     ]
    },
    {
     "name": "stderr",
     "output_type": "stream",
     "text": [
      "Emotion Classification: 100%|█████████████████| 157/157 [00:53<00:00,  2.93it/s]\n",
      "2025-07-26 16:28:00,720 - BERTopic - Embedding - Transforming documents to embeddings.\n"
     ]
    },
    {
     "name": "stdout",
     "output_type": "stream",
     "text": [
      "🔍 Running BERTopic...\n"
     ]
    },
    {
     "data": {
      "application/vnd.jupyter.widget-view+json": {
       "model_id": "ed5ed49d30ac4a94b415512d10bb4480",
       "version_major": 2,
       "version_minor": 0
      },
      "text/plain": [
       "Batches:   0%|          | 0/157 [00:00<?, ?it/s]"
      ]
     },
     "metadata": {},
     "output_type": "display_data"
    },
    {
     "name": "stderr",
     "output_type": "stream",
     "text": [
      "2025-07-26 16:28:05,825 - BERTopic - Embedding - Completed ✓\n",
      "2025-07-26 16:28:05,825 - BERTopic - Dimensionality - Fitting the dimensionality reduction algorithm\n",
      "2025-07-26 16:28:07,000 - BERTopic - Dimensionality - Completed ✓\n",
      "2025-07-26 16:28:07,000 - BERTopic - Cluster - Start clustering the reduced embeddings\n",
      "2025-07-26 16:28:07,069 - BERTopic - Cluster - Completed ✓\n",
      "2025-07-26 16:28:07,071 - BERTopic - Representation - Fine-tuning topics using representation models.\n",
      "2025-07-26 16:28:07,123 - BERTopic - Representation - Completed ✓\n",
      "100%|███████████████████████████████████████████| 82/82 [01:03<00:00,  1.30it/s]\n"
     ]
    },
    {
     "name": "stdout",
     "output_type": "stream",
     "text": [
      "🔄 Processing org.scratchjr.android...\n"
     ]
    },
    {
     "name": "stderr",
     "output_type": "stream",
     "text": [
      "Emotion Classification: 100%|█████████████████| 157/157 [00:57<00:00,  2.73it/s]\n",
      "2025-07-26 16:30:08,376 - BERTopic - Embedding - Transforming documents to embeddings.\n"
     ]
    },
    {
     "name": "stdout",
     "output_type": "stream",
     "text": [
      "🔍 Running BERTopic...\n"
     ]
    },
    {
     "data": {
      "application/vnd.jupyter.widget-view+json": {
       "model_id": "964490df188a4285ae24d0de87d12b34",
       "version_major": 2,
       "version_minor": 0
      },
      "text/plain": [
       "Batches:   0%|          | 0/157 [00:00<?, ?it/s]"
      ]
     },
     "metadata": {},
     "output_type": "display_data"
    },
    {
     "name": "stderr",
     "output_type": "stream",
     "text": [
      "2025-07-26 16:30:11,365 - BERTopic - Embedding - Completed ✓\n",
      "2025-07-26 16:30:11,366 - BERTopic - Dimensionality - Fitting the dimensionality reduction algorithm\n",
      "2025-07-26 16:30:12,714 - BERTopic - Dimensionality - Completed ✓\n",
      "2025-07-26 16:30:12,715 - BERTopic - Cluster - Start clustering the reduced embeddings\n",
      "2025-07-26 16:30:12,776 - BERTopic - Cluster - Completed ✓\n",
      "2025-07-26 16:30:12,777 - BERTopic - Representation - Fine-tuning topics using representation models.\n",
      "2025-07-26 16:30:12,821 - BERTopic - Representation - Completed ✓\n",
      "100%|█████████████████████████████████████████| 111/111 [01:26<00:00,  1.28it/s]\n"
     ]
    },
    {
     "name": "stdout",
     "output_type": "stream",
     "text": [
      "🔄 Processing com.getepic.Epic...\n"
     ]
    },
    {
     "name": "stderr",
     "output_type": "stream",
     "text": [
      "Emotion Classification: 100%|█████████████████| 157/157 [00:55<00:00,  2.81it/s]\n",
      "2025-07-26 16:32:35,717 - BERTopic - Embedding - Transforming documents to embeddings.\n"
     ]
    },
    {
     "name": "stdout",
     "output_type": "stream",
     "text": [
      "🔍 Running BERTopic...\n"
     ]
    },
    {
     "data": {
      "application/vnd.jupyter.widget-view+json": {
       "model_id": "b16ca56ae2a44e45a9fba991eea8b238",
       "version_major": 2,
       "version_minor": 0
      },
      "text/plain": [
       "Batches:   0%|          | 0/157 [00:00<?, ?it/s]"
      ]
     },
     "metadata": {},
     "output_type": "display_data"
    },
    {
     "name": "stderr",
     "output_type": "stream",
     "text": [
      "2025-07-26 16:32:38,711 - BERTopic - Embedding - Completed ✓\n",
      "2025-07-26 16:32:38,711 - BERTopic - Dimensionality - Fitting the dimensionality reduction algorithm\n",
      "2025-07-26 16:32:40,006 - BERTopic - Dimensionality - Completed ✓\n",
      "2025-07-26 16:32:40,007 - BERTopic - Cluster - Start clustering the reduced embeddings\n",
      "2025-07-26 16:32:40,070 - BERTopic - Cluster - Completed ✓\n",
      "2025-07-26 16:32:40,072 - BERTopic - Representation - Fine-tuning topics using representation models.\n",
      "2025-07-26 16:32:40,119 - BERTopic - Representation - Completed ✓\n",
      "100%|███████████████████████████████████████████| 94/94 [01:06<00:00,  1.42it/s]\n"
     ]
    },
    {
     "name": "stdout",
     "output_type": "stream",
     "text": [
      "🔄 Processing org.pbskids.gamesapp...\n"
     ]
    },
    {
     "name": "stderr",
     "output_type": "stream",
     "text": [
      "Emotion Classification: 100%|█████████████████| 157/157 [00:49<00:00,  3.15it/s]\n",
      "2025-07-26 16:34:36,765 - BERTopic - Embedding - Transforming documents to embeddings.\n"
     ]
    },
    {
     "name": "stdout",
     "output_type": "stream",
     "text": [
      "🔍 Running BERTopic...\n"
     ]
    },
    {
     "data": {
      "application/vnd.jupyter.widget-view+json": {
       "model_id": "d1b7b1f46f814039a4eddeaf5d025974",
       "version_major": 2,
       "version_minor": 0
      },
      "text/plain": [
       "Batches:   0%|          | 0/157 [00:00<?, ?it/s]"
      ]
     },
     "metadata": {},
     "output_type": "display_data"
    },
    {
     "name": "stderr",
     "output_type": "stream",
     "text": [
      "2025-07-26 16:34:39,952 - BERTopic - Embedding - Completed ✓\n",
      "2025-07-26 16:34:39,952 - BERTopic - Dimensionality - Fitting the dimensionality reduction algorithm\n",
      "2025-07-26 16:34:41,255 - BERTopic - Dimensionality - Completed ✓\n",
      "2025-07-26 16:34:41,255 - BERTopic - Cluster - Start clustering the reduced embeddings\n",
      "2025-07-26 16:34:41,333 - BERTopic - Cluster - Completed ✓\n",
      "2025-07-26 16:34:41,334 - BERTopic - Representation - Fine-tuning topics using representation models.\n",
      "2025-07-26 16:34:41,378 - BERTopic - Representation - Completed ✓\n",
      "100%|█████████████████████████████████████████| 102/102 [01:13<00:00,  1.39it/s]\n"
     ]
    },
    {
     "name": "stdout",
     "output_type": "stream",
     "text": [
      "🔄 Processing com.rvappstudios.abc_kids_toddler_tracing_phonics...\n"
     ]
    },
    {
     "name": "stderr",
     "output_type": "stream",
     "text": [
      "Emotion Classification: 100%|█████████████████| 157/157 [00:54<00:00,  2.89it/s]\n",
      "2025-07-26 16:36:49,434 - BERTopic - Embedding - Transforming documents to embeddings.\n"
     ]
    },
    {
     "name": "stdout",
     "output_type": "stream",
     "text": [
      "🔍 Running BERTopic...\n"
     ]
    },
    {
     "data": {
      "application/vnd.jupyter.widget-view+json": {
       "model_id": "3ef80c506d034c1d9bff4e80b1f6ac9b",
       "version_major": 2,
       "version_minor": 0
      },
      "text/plain": [
       "Batches:   0%|          | 0/157 [00:00<?, ?it/s]"
      ]
     },
     "metadata": {},
     "output_type": "display_data"
    },
    {
     "name": "stderr",
     "output_type": "stream",
     "text": [
      "2025-07-26 16:36:51,509 - BERTopic - Embedding - Completed ✓\n",
      "2025-07-26 16:36:51,510 - BERTopic - Dimensionality - Fitting the dimensionality reduction algorithm\n",
      "2025-07-26 16:36:53,027 - BERTopic - Dimensionality - Completed ✓\n",
      "2025-07-26 16:36:53,027 - BERTopic - Cluster - Start clustering the reduced embeddings\n",
      "2025-07-26 16:36:53,088 - BERTopic - Cluster - Completed ✓\n",
      "2025-07-26 16:36:53,089 - BERTopic - Representation - Fine-tuning topics using representation models.\n",
      "2025-07-26 16:36:53,129 - BERTopic - Representation - Completed ✓\n",
      "100%|█████████████████████████████████████████| 117/117 [01:26<00:00,  1.35it/s]\n"
     ]
    },
    {
     "name": "stdout",
     "output_type": "stream",
     "text": [
      "🔄 Processing com.sinyee.babybus.restaurant...\n"
     ]
    },
    {
     "name": "stderr",
     "output_type": "stream",
     "text": [
      "Emotion Classification: 100%|█████████████████| 157/157 [00:41<00:00,  3.78it/s]\n",
      "2025-07-26 16:39:01,722 - BERTopic - Embedding - Transforming documents to embeddings.\n"
     ]
    },
    {
     "name": "stdout",
     "output_type": "stream",
     "text": [
      "🔍 Running BERTopic...\n"
     ]
    },
    {
     "data": {
      "application/vnd.jupyter.widget-view+json": {
       "model_id": "b871ae9ff2fb41e097bc2ebdb6389238",
       "version_major": 2,
       "version_minor": 0
      },
      "text/plain": [
       "Batches:   0%|          | 0/157 [00:00<?, ?it/s]"
      ]
     },
     "metadata": {},
     "output_type": "display_data"
    },
    {
     "name": "stderr",
     "output_type": "stream",
     "text": [
      "2025-07-26 16:39:03,975 - BERTopic - Embedding - Completed ✓\n",
      "2025-07-26 16:39:03,975 - BERTopic - Dimensionality - Fitting the dimensionality reduction algorithm\n",
      "2025-07-26 16:39:05,425 - BERTopic - Dimensionality - Completed ✓\n",
      "2025-07-26 16:39:05,425 - BERTopic - Cluster - Start clustering the reduced embeddings\n",
      "2025-07-26 16:39:05,491 - BERTopic - Cluster - Completed ✓\n",
      "2025-07-26 16:39:05,493 - BERTopic - Representation - Fine-tuning topics using representation models.\n",
      "2025-07-26 16:39:05,528 - BERTopic - Representation - Completed ✓\n",
      "100%|█████████████████████████████████████████| 107/107 [01:22<00:00,  1.30it/s]\n"
     ]
    },
    {
     "name": "stdout",
     "output_type": "stream",
     "text": [
      "🔄 Processing com.miniclip.carrom...\n"
     ]
    },
    {
     "name": "stderr",
     "output_type": "stream",
     "text": [
      "Emotion Classification: 100%|█████████████████| 157/157 [00:39<00:00,  3.95it/s]\n",
      "2025-07-26 16:41:08,169 - BERTopic - Embedding - Transforming documents to embeddings.\n"
     ]
    },
    {
     "name": "stdout",
     "output_type": "stream",
     "text": [
      "🔍 Running BERTopic...\n"
     ]
    },
    {
     "data": {
      "application/vnd.jupyter.widget-view+json": {
       "model_id": "e448d3ce9ac94bbfb6593a754754bcd9",
       "version_major": 2,
       "version_minor": 0
      },
      "text/plain": [
       "Batches:   0%|          | 0/157 [00:00<?, ?it/s]"
      ]
     },
     "metadata": {},
     "output_type": "display_data"
    },
    {
     "name": "stderr",
     "output_type": "stream",
     "text": [
      "2025-07-26 16:41:09,836 - BERTopic - Embedding - Completed ✓\n",
      "2025-07-26 16:41:09,836 - BERTopic - Dimensionality - Fitting the dimensionality reduction algorithm\n",
      "2025-07-26 16:41:11,659 - BERTopic - Dimensionality - Completed ✓\n",
      "2025-07-26 16:41:11,660 - BERTopic - Cluster - Start clustering the reduced embeddings\n",
      "2025-07-26 16:41:11,720 - BERTopic - Cluster - Completed ✓\n",
      "2025-07-26 16:41:11,721 - BERTopic - Representation - Fine-tuning topics using representation models.\n",
      "2025-07-26 16:41:11,753 - BERTopic - Representation - Completed ✓\n",
      "100%|█████████████████████████████████████████| 106/106 [01:14<00:00,  1.42it/s]\n"
     ]
    },
    {
     "name": "stdout",
     "output_type": "stream",
     "text": [
      "🔄 Processing com.imangi.templerun2...\n"
     ]
    },
    {
     "name": "stderr",
     "output_type": "stream",
     "text": [
      "Emotion Classification: 100%|█████████████████| 157/157 [00:40<00:00,  3.88it/s]\n",
      "2025-07-26 16:43:07,550 - BERTopic - Embedding - Transforming documents to embeddings.\n"
     ]
    },
    {
     "name": "stdout",
     "output_type": "stream",
     "text": [
      "🔍 Running BERTopic...\n"
     ]
    },
    {
     "data": {
      "application/vnd.jupyter.widget-view+json": {
       "model_id": "1146ddf13f4a4ed785c26cc7f3f9a879",
       "version_major": 2,
       "version_minor": 0
      },
      "text/plain": [
       "Batches:   0%|          | 0/157 [00:00<?, ?it/s]"
      ]
     },
     "metadata": {},
     "output_type": "display_data"
    },
    {
     "name": "stderr",
     "output_type": "stream",
     "text": [
      "2025-07-26 16:43:09,267 - BERTopic - Embedding - Completed ✓\n",
      "2025-07-26 16:43:09,267 - BERTopic - Dimensionality - Fitting the dimensionality reduction algorithm\n",
      "2025-07-26 16:43:10,769 - BERTopic - Dimensionality - Completed ✓\n",
      "2025-07-26 16:43:10,769 - BERTopic - Cluster - Start clustering the reduced embeddings\n",
      "2025-07-26 16:43:10,834 - BERTopic - Cluster - Completed ✓\n",
      "2025-07-26 16:43:10,836 - BERTopic - Representation - Fine-tuning topics using representation models.\n",
      "2025-07-26 16:43:10,873 - BERTopic - Representation - Completed ✓\n",
      "100%|█████████████████████████████████████████| 113/113 [01:22<00:00,  1.38it/s]\n"
     ]
    },
    {
     "name": "stdout",
     "output_type": "stream",
     "text": [
      "🔄 Processing com.google.android.apps.youtube.kids...\n"
     ]
    },
    {
     "name": "stderr",
     "output_type": "stream",
     "text": [
      "Emotion Classification: 100%|█████████████████| 157/157 [00:41<00:00,  3.79it/s]\n",
      "2025-07-26 16:45:14,852 - BERTopic - Embedding - Transforming documents to embeddings.\n"
     ]
    },
    {
     "name": "stdout",
     "output_type": "stream",
     "text": [
      "🔍 Running BERTopic...\n"
     ]
    },
    {
     "data": {
      "application/vnd.jupyter.widget-view+json": {
       "model_id": "cf25af73b9ac4c6ab4037fceb5f4545f",
       "version_major": 2,
       "version_minor": 0
      },
      "text/plain": [
       "Batches:   0%|          | 0/157 [00:00<?, ?it/s]"
      ]
     },
     "metadata": {},
     "output_type": "display_data"
    },
    {
     "name": "stderr",
     "output_type": "stream",
     "text": [
      "2025-07-26 16:45:16,307 - BERTopic - Embedding - Completed ✓\n",
      "2025-07-26 16:45:16,308 - BERTopic - Dimensionality - Fitting the dimensionality reduction algorithm\n",
      "2025-07-26 16:45:17,956 - BERTopic - Dimensionality - Completed ✓\n",
      "2025-07-26 16:45:17,956 - BERTopic - Cluster - Start clustering the reduced embeddings\n",
      "2025-07-26 16:45:18,019 - BERTopic - Cluster - Completed ✓\n",
      "2025-07-26 16:45:18,021 - BERTopic - Representation - Fine-tuning topics using representation models.\n",
      "2025-07-26 16:45:18,056 - BERTopic - Representation - Completed ✓\n",
      "100%|█████████████████████████████████████████| 109/109 [01:20<00:00,  1.35it/s]\n"
     ]
    },
    {
     "name": "stdout",
     "output_type": "stream",
     "text": [
      "🔄 Processing com.future.HappyKids...\n"
     ]
    },
    {
     "name": "stderr",
     "output_type": "stream",
     "text": [
      "Emotion Classification: 100%|███████████████████| 38/38 [00:10<00:00,  3.61it/s]\n",
      "2025-07-26 16:46:49,761 - BERTopic - Embedding - Transforming documents to embeddings.\n"
     ]
    },
    {
     "name": "stdout",
     "output_type": "stream",
     "text": [
      "🔍 Running BERTopic...\n"
     ]
    },
    {
     "data": {
      "application/vnd.jupyter.widget-view+json": {
       "model_id": "f1cabe9a6d91449d8f436a749d276b6d",
       "version_major": 2,
       "version_minor": 0
      },
      "text/plain": [
       "Batches:   0%|          | 0/38 [00:00<?, ?it/s]"
      ]
     },
     "metadata": {},
     "output_type": "display_data"
    },
    {
     "name": "stderr",
     "output_type": "stream",
     "text": [
      "2025-07-26 16:46:50,355 - BERTopic - Embedding - Completed ✓\n",
      "2025-07-26 16:46:50,355 - BERTopic - Dimensionality - Fitting the dimensionality reduction algorithm\n",
      "2025-07-26 16:46:52,478 - BERTopic - Dimensionality - Completed ✓\n",
      "2025-07-26 16:46:52,478 - BERTopic - Cluster - Start clustering the reduced embeddings\n",
      "2025-07-26 16:46:52,492 - BERTopic - Cluster - Completed ✓\n",
      "2025-07-26 16:46:52,493 - BERTopic - Representation - Fine-tuning topics using representation models.\n",
      "2025-07-26 16:46:52,507 - BERTopic - Representation - Completed ✓\n",
      "100%|███████████████████████████████████████████| 31/31 [00:23<00:00,  1.34it/s]\n"
     ]
    },
    {
     "name": "stdout",
     "output_type": "stream",
     "text": [
      "🔄 Processing com.abqappsource.childgrowthtracker...\n"
     ]
    },
    {
     "name": "stderr",
     "output_type": "stream",
     "text": [
      "Emotion Classification: 100%|███████████████████| 20/20 [00:05<00:00,  3.64it/s]\n",
      "2025-07-26 16:47:21,257 - BERTopic - Embedding - Transforming documents to embeddings.\n"
     ]
    },
    {
     "name": "stdout",
     "output_type": "stream",
     "text": [
      "🔍 Running BERTopic...\n"
     ]
    },
    {
     "data": {
      "application/vnd.jupyter.widget-view+json": {
       "model_id": "7aabc3fa1b0a431c820982bf751292d3",
       "version_major": 2,
       "version_minor": 0
      },
      "text/plain": [
       "Batches:   0%|          | 0/20 [00:00<?, ?it/s]"
      ]
     },
     "metadata": {},
     "output_type": "display_data"
    },
    {
     "name": "stderr",
     "output_type": "stream",
     "text": [
      "2025-07-26 16:47:21,623 - BERTopic - Embedding - Completed ✓\n",
      "2025-07-26 16:47:21,623 - BERTopic - Dimensionality - Fitting the dimensionality reduction algorithm\n",
      "2025-07-26 16:47:21,969 - BERTopic - Dimensionality - Completed ✓\n",
      "2025-07-26 16:47:21,969 - BERTopic - Cluster - Start clustering the reduced embeddings\n",
      "2025-07-26 16:47:21,977 - BERTopic - Cluster - Completed ✓\n",
      "2025-07-26 16:47:21,978 - BERTopic - Representation - Fine-tuning topics using representation models.\n",
      "2025-07-26 16:47:21,984 - BERTopic - Representation - Completed ✓\n",
      "100%|█████████████████████████████████████████████| 9/9 [00:05<00:00,  1.58it/s]\n"
     ]
    },
    {
     "name": "stdout",
     "output_type": "stream",
     "text": [
      "🔄 Processing org.khankids.android...\n"
     ]
    },
    {
     "name": "stderr",
     "output_type": "stream",
     "text": [
      "Emotion Classification: 100%|█████████████████| 157/157 [00:51<00:00,  3.03it/s]\n",
      "2025-07-26 16:48:19,741 - BERTopic - Embedding - Transforming documents to embeddings.\n"
     ]
    },
    {
     "name": "stdout",
     "output_type": "stream",
     "text": [
      "🔍 Running BERTopic...\n"
     ]
    },
    {
     "data": {
      "application/vnd.jupyter.widget-view+json": {
       "model_id": "a9df114fb0ee4d85a9578d67bf2235fc",
       "version_major": 2,
       "version_minor": 0
      },
      "text/plain": [
       "Batches:   0%|          | 0/157 [00:00<?, ?it/s]"
      ]
     },
     "metadata": {},
     "output_type": "display_data"
    },
    {
     "name": "stderr",
     "output_type": "stream",
     "text": [
      "2025-07-26 16:48:22,072 - BERTopic - Embedding - Completed ✓\n",
      "2025-07-26 16:48:22,072 - BERTopic - Dimensionality - Fitting the dimensionality reduction algorithm\n",
      "2025-07-26 16:48:23,400 - BERTopic - Dimensionality - Completed ✓\n",
      "2025-07-26 16:48:23,401 - BERTopic - Cluster - Start clustering the reduced embeddings\n",
      "2025-07-26 16:48:23,468 - BERTopic - Cluster - Completed ✓\n",
      "2025-07-26 16:48:23,469 - BERTopic - Representation - Fine-tuning topics using representation models.\n",
      "2025-07-26 16:48:23,512 - BERTopic - Representation - Completed ✓\n",
      "100%|█████████████████████████████████████████| 111/111 [01:21<00:00,  1.37it/s]\n"
     ]
    }
   ],
   "source": [
    "top_apps = pd.read_csv(\"data/top_apps.csv\")\n",
    "for app_id in top_apps[\"app_id\"]:\n",
    "    process_reviews_file(app_id)\n"
   ]
  },
  {
   "cell_type": "code",
   "execution_count": null,
   "id": "953ab3d8-3e6e-4833-b892-351a84bfe220",
   "metadata": {},
   "outputs": [],
   "source": []
  }
 ],
 "metadata": {
  "kernelspec": {
   "display_name": "Python 3 (ipykernel)",
   "language": "python",
   "name": "python3"
  },
  "language_info": {
   "codemirror_mode": {
    "name": "ipython",
    "version": 3
   },
   "file_extension": ".py",
   "mimetype": "text/x-python",
   "name": "python",
   "nbconvert_exporter": "python",
   "pygments_lexer": "ipython3",
   "version": "3.13.5"
  }
 },
 "nbformat": 4,
 "nbformat_minor": 5
}
